{
 "cells": [
  {
   "cell_type": "code",
   "execution_count": 2,
   "metadata": {},
   "outputs": [],
   "source": [
    "import pandas as pd"
   ]
  },
  {
   "cell_type": "code",
   "execution_count": 7,
   "metadata": {},
   "outputs": [
    {
     "data": {
      "text/html": [
       "<div>\n",
       "<style scoped>\n",
       "    .dataframe tbody tr th:only-of-type {\n",
       "        vertical-align: middle;\n",
       "    }\n",
       "\n",
       "    .dataframe tbody tr th {\n",
       "        vertical-align: top;\n",
       "    }\n",
       "\n",
       "    .dataframe thead th {\n",
       "        text-align: right;\n",
       "    }\n",
       "</style>\n",
       "<table border=\"1\" class=\"dataframe\">\n",
       "  <thead>\n",
       "    <tr style=\"text-align: right;\">\n",
       "      <th></th>\n",
       "      <th>SystemBuyPrice</th>\n",
       "      <th>NetImbalanceVolume</th>\n",
       "      <th>Date</th>\n",
       "    </tr>\n",
       "    <tr>\n",
       "      <th>Time</th>\n",
       "      <th></th>\n",
       "      <th></th>\n",
       "      <th></th>\n",
       "    </tr>\n",
       "  </thead>\n",
       "  <tbody>\n",
       "    <tr>\n",
       "      <th>00:00:00</th>\n",
       "      <td>45.32</td>\n",
       "      <td>-140.641667</td>\n",
       "      <td>2024-09-09</td>\n",
       "    </tr>\n",
       "    <tr>\n",
       "      <th>00:30:00</th>\n",
       "      <td>60.12</td>\n",
       "      <td>-5.233333</td>\n",
       "      <td>2024-09-09</td>\n",
       "    </tr>\n",
       "    <tr>\n",
       "      <th>01:00:00</th>\n",
       "      <td>102.50</td>\n",
       "      <td>19.522222</td>\n",
       "      <td>2024-09-09</td>\n",
       "    </tr>\n",
       "    <tr>\n",
       "      <th>01:30:00</th>\n",
       "      <td>49.44</td>\n",
       "      <td>-87.358333</td>\n",
       "      <td>2024-09-09</td>\n",
       "    </tr>\n",
       "    <tr>\n",
       "      <th>02:00:00</th>\n",
       "      <td>104.00</td>\n",
       "      <td>263.658333</td>\n",
       "      <td>2024-09-09</td>\n",
       "    </tr>\n",
       "  </tbody>\n",
       "</table>\n",
       "</div>"
      ],
      "text/plain": [
       "          SystemBuyPrice  NetImbalanceVolume        Date\n",
       "Time                                                    \n",
       "00:00:00           45.32         -140.641667  2024-09-09\n",
       "00:30:00           60.12           -5.233333  2024-09-09\n",
       "01:00:00          102.50           19.522222  2024-09-09\n",
       "01:30:00           49.44          -87.358333  2024-09-09\n",
       "02:00:00          104.00          263.658333  2024-09-09"
      ]
     },
     "execution_count": 7,
     "metadata": {},
     "output_type": "execute_result"
    }
   ],
   "source": [
    "data = pd.read_csv('/Users/julieagwu/Library/Mobile Documents/com~apple~CloudDocs/GB Power Market/Settlement Data/data/cleanedsettlement.csv')\n",
    "data.set_index('Time', inplace=True)\n",
    "data.head()"
   ]
  },
  {
   "cell_type": "code",
   "execution_count": null,
   "metadata": {},
   "outputs": [],
   "source": []
  }
 ],
 "metadata": {
  "kernelspec": {
   "display_name": "Python 3",
   "language": "python",
   "name": "python3"
  },
  "language_info": {
   "codemirror_mode": {
    "name": "ipython",
    "version": 3
   },
   "file_extension": ".py",
   "mimetype": "text/x-python",
   "name": "python",
   "nbconvert_exporter": "python",
   "pygments_lexer": "ipython3",
   "version": "3.12.5"
  }
 },
 "nbformat": 4,
 "nbformat_minor": 2
}
